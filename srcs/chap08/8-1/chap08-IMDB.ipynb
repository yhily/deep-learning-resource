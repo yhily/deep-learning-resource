{
 "cells": [
  {
   "cell_type": "code",
   "execution_count": 1,
   "metadata": {},
   "outputs": [],
   "source": [
    "import  tensorflow as tf\n",
    "from    tensorflow.keras import datasets\n",
    "import numpy as np"
   ]
  },
  {
   "cell_type": "code",
   "execution_count": 2,
   "metadata": {},
   "outputs": [],
   "source": [
    "import os\n",
    "tf.random.set_seed(22)\n",
    "np.random.seed(22)"
   ]
  },
  {
   "cell_type": "code",
   "execution_count": 3,
   "metadata": {},
   "outputs": [],
   "source": [
    "# 设定最常用的\n",
    "total_words = 10000\n",
    "(x_train, y_train), (x_test, y_test) = datasets.imdb.load_data(num_words=total_words)"
   ]
  },
  {
   "cell_type": "code",
   "execution_count": 4,
   "metadata": {},
   "outputs": [],
   "source": [
    "(x_train, y_train), (x_test, y_test) = datasets.imdb.load_data(\n",
    "                                                path = './imdb.npz',\n",
    "                                                num_words = total_words)"
   ]
  },
  {
   "cell_type": "code",
   "execution_count": 5,
   "metadata": {},
   "outputs": [
    {
     "name": "stdout",
     "output_type": "stream",
     "text": [
      "(25000,) (25000,)\n",
      "(25000,) (25000,)\n"
     ]
    }
   ],
   "source": [
    "print(x_train.shape,  y_train.shape)\n",
    "print(x_test.shape, y_test.shape)"
   ]
  },
  {
   "cell_type": "code",
   "execution_count": 6,
   "metadata": {},
   "outputs": [
    {
     "name": "stdout",
     "output_type": "stream",
     "text": [
      "[1, 14, 22, 16, 43, 530, 973, 1622, 1385, 65, 458, 4468, 66, 3941, 4, 173, 36, 256, 5, 25, 100, 43, 838, 112, 50, 670, 2, 9, 35, 480, 284, 5, 150, 4, 172, 112, 167, 2, 336, 385, 39, 4, 172, 4536, 1111, 17, 546, 38, 13, 447, 4, 192, 50, 16, 6, 147, 2025, 19, 14, 22, 4, 1920, 4613, 469, 4, 22, 71, 87, 12, 16, 43, 530, 38, 76, 15, 13, 1247, 4, 22, 17, 515, 17, 12, 16, 626, 18, 2, 5, 62, 386, 12, 8, 316, 8, 106, 5, 4, 2223, 5244, 16, 480, 66, 3785, 33, 4, 130, 12, 16, 38, 619, 5, 25, 124, 51, 36, 135, 48, 25, 1415, 33, 6, 22, 12, 215, 28, 77, 52, 5, 14, 407, 16, 82, 2, 8, 4, 107, 117, 5952, 15, 256, 4, 2, 7, 3766, 5, 723, 36, 71, 43, 530, 476, 26, 400, 317, 46, 7, 4, 2, 1029, 13, 104, 88, 4, 381, 15, 297, 98, 32, 2071, 56, 26, 141, 6, 194, 7486, 18, 4, 226, 22, 21, 134, 476, 26, 480, 5, 144, 30, 5535, 18, 51, 36, 28, 224, 92, 25, 104, 4, 226, 65, 16, 38, 1334, 88, 12, 16, 283, 5, 16, 4472, 113, 103, 32, 15, 16, 5345, 19, 178, 32]\n"
     ]
    }
   ],
   "source": [
    "print(x_train[0])"
   ]
  },
  {
   "cell_type": "code",
   "execution_count": 12,
   "metadata": {},
   "outputs": [
    {
     "data": {
      "text/plain": [
       "1"
      ]
     },
     "execution_count": 12,
     "metadata": {},
     "output_type": "execute_result"
    }
   ],
   "source": [
    "y_train[0]"
   ]
  },
  {
   "cell_type": "code",
   "execution_count": 13,
   "metadata": {},
   "outputs": [
    {
     "data": {
      "text/plain": [
       "218"
      ]
     },
     "execution_count": 13,
     "metadata": {},
     "output_type": "execute_result"
    }
   ],
   "source": [
    "len(x_train[0])"
   ]
  },
  {
   "cell_type": "code",
   "execution_count": 14,
   "metadata": {},
   "outputs": [
    {
     "name": "stdout",
     "output_type": "stream",
     "text": [
      "Downloading data from https://storage.googleapis.com/tensorflow/tf-keras-datasets/imdb_word_index.json\n",
      "1646592/1641221 [==============================] - 1s 1us/step\n"
     ]
    }
   ],
   "source": [
    "word_index = datasets.imdb.get_word_index()"
   ]
  },
  {
   "cell_type": "code",
   "execution_count": null,
   "metadata": {},
   "outputs": [],
   "source": [
    "for word, code in word_index.items():\n",
    "    print(word,code)"
   ]
  },
  {
   "cell_type": "code",
   "execution_count": 16,
   "metadata": {},
   "outputs": [],
   "source": [
    "word_index = {word :(code + 3) for word, code in word_index.items()}\n",
    "word_index[\"<PAD>\"] = 0 # 填充标志\n",
    "word_index[\"<START>\"] = 1 # 起始标志\n",
    "word_index[\"<UNK>\"] = 2 # 未知单词的标志\n",
    "word_index[\"<UNUSED>\"] = 3"
   ]
  },
  {
   "cell_type": "code",
   "execution_count": 17,
   "metadata": {},
   "outputs": [],
   "source": [
    "# 翻转编码表\n",
    "reverse_word_index = dict([(value, key) for (key, value) in word_index.items()])"
   ]
  },
  {
   "cell_type": "code",
   "execution_count": 18,
   "metadata": {},
   "outputs": [],
   "source": [
    "def decode_review(text):\n",
    "    return ' '.join([reverse_word_index.get(i, '?') for i in text])"
   ]
  },
  {
   "cell_type": "code",
   "execution_count": 19,
   "metadata": {},
   "outputs": [
    {
     "data": {
      "text/plain": [
       "\"<START> this film was just brilliant casting location scenery story direction everyone's really suited the part they played and you could just imagine being there robert <UNK> is an amazing actor and now the same being director <UNK> father came from the same scottish island as myself so i loved the fact there was a real connection with this film the witty remarks throughout the film were great it was just brilliant so much that i bought the film as soon as it was released for <UNK> and would recommend it to everyone to watch and the fly fishing was amazing really cried at the end it was so sad and you know what they say if you cry at a film it must have been good and this definitely was also <UNK> to the two little boy's that played the <UNK> of norman and paul they were just brilliant children are often left out of the <UNK> list i think because the stars that play them all grown up are such a big profile for the whole film but these children are amazing and should be praised for what they have done don't you think the whole story was so lovely because it was true and was someone's life after all that was shared with us all\""
      ]
     },
     "execution_count": 19,
     "metadata": {},
     "output_type": "execute_result"
    }
   ],
   "source": [
    "decode_review(x_train[0])"
   ]
  },
  {
   "cell_type": "code",
   "execution_count": 8,
   "metadata": {},
   "outputs": [],
   "source": [
    "from    tensorflow import keras\n",
    "max_review_len = 80\n",
    "x_train = keras.preprocessing.sequence.pad_sequences(x_train, maxlen=max_review_len)\n",
    "x_test = keras.preprocessing.sequence.pad_sequences(x_test, maxlen=max_review_len)"
   ]
  },
  {
   "cell_type": "code",
   "execution_count": 9,
   "metadata": {},
   "outputs": [
    {
     "name": "stdout",
     "output_type": "stream",
     "text": [
      "x_train shape: (25000, 80) tf.Tensor(1, shape=(), dtype=int64) tf.Tensor(0, shape=(), dtype=int64)\n",
      "x_test shape: (25000, 80)\n"
     ]
    }
   ],
   "source": [
    "\n",
    "batchsz = 128\n",
    "db_train = tf.data.Dataset.from_tensor_slices((x_train, y_train))\n",
    "db_train = db_train.shuffle(1000).batch(batchsz, drop_remainder=True)\n",
    "db_test = tf.data.Dataset.from_tensor_slices((x_test, y_test))\n",
    "db_test = db_test.batch(batchsz, drop_remainder=True)\n",
    "print('x_train shape:', x_train.shape, tf.reduce_max(y_train), tf.reduce_min(y_train))\n",
    "print('x_test shape:', x_test.shape)"
   ]
  },
  {
   "cell_type": "code",
   "execution_count": 24,
   "metadata": {},
   "outputs": [
    {
     "name": "stdout",
     "output_type": "stream",
     "text": [
      "x_train shape: (25000, 80)\n"
     ]
    }
   ],
   "source": [
    "print('x_train shape:', x_train.shape)"
   ]
  },
  {
   "cell_type": "code",
   "execution_count": 25,
   "metadata": {},
   "outputs": [
    {
     "name": "stdout",
     "output_type": "stream",
     "text": [
      "x_test shape: (25000, 80)\n"
     ]
    }
   ],
   "source": [
    "print('x_test shape:', x_test.shape)"
   ]
  },
  {
   "cell_type": "code",
   "execution_count": 28,
   "metadata": {},
   "outputs": [],
   "source": [
    "###简易RNN\n",
    "class MyRNN(keras.Model):\n",
    "\n",
    "    def __init__(self, units):\n",
    "        super(MyRNN, self).__init__()\n",
    "\n",
    "\n",
    "        # transform text to embedding representation\n",
    "        # [b, 80] => [b, 80, 100]\n",
    "        self.embedding = layers.Embedding(total_words, embedding_len,\n",
    "                                          input_length=max_review_len)\n",
    "\n",
    "        # [b, 80, 100] , h_dim: 64\n",
    "        self.rnn = keras.Sequential([\n",
    "            layers.SimpleRNN(units, dropout=0.5, return_sequences=True, unroll=True),\n",
    "            layers.SimpleRNN(units, dropout=0.5, unroll=True)\n",
    "        ])\n",
    "\n",
    "\n",
    "        # fc, [b, 80, 100] => [b, 64] => [b, 1]\n",
    "        self.outlayer = layers.Dense(1)\n",
    "\n",
    "    def call(self, inputs, training : bool = True):\n",
    "        \"\"\"\n",
    "        net(x) net(x, training=True) :train mode\n",
    "        net(x, training=False): test\n",
    "        :param inputs: [b, 80]\n",
    "        :param training:\n",
    "        :return:\n",
    "        \"\"\"\n",
    "        # [b, 80]\n",
    "        x = inputs\n",
    "        # embedding: [b, 80] => [b, 80, 100]\n",
    "        x = self.embedding(x)\n",
    "        # rnn cell compute\n",
    "        # x: [b, 80, 100] => [b, 64]\n",
    "        x = self.rnn(x)\n",
    "\n",
    "        # out: [b, 64] => [b, 1]\n",
    "        x = self.outlayer(x)\n",
    "        # p(y is pos|x)\n",
    "        prob = tf.sigmoid(x)\n",
    "\n",
    "        return prob"
   ]
  },
  {
   "cell_type": "code",
   "execution_count": 26,
   "metadata": {},
   "outputs": [],
   "source": [
    "#LSTM\n",
    "\n",
    "embedding_len = 100\n",
    "from    tensorflow.keras import layers, losses, optimizers, Sequential\n",
    "\n",
    "class MyRNN(keras.Model):\n",
    "\n",
    "    def __init__(self, units):\n",
    "        super(MyRNN, self).__init__()\n",
    "\n",
    "\n",
    "        # transform text to embedding representation\n",
    "        # [b, 80] => [b, 80, 100]\n",
    "        self.embedding = layers.Embedding(total_words, embedding_len,\n",
    "                                          input_length=max_review_len)\n",
    "\n",
    "        # [b, 80, 100] , h_dim: 64\n",
    "        self.rnn = keras.Sequential([\n",
    "            # layers.SimpleRNN(units, dropout=0.5, return_sequences=True, unroll=True),\n",
    "            # layers.SimpleRNN(units, dropout=0.5, unroll=True)\n",
    "\n",
    "            layers.LSTM(units, dropout=0.5, return_sequences=True, unroll=True),\n",
    "            layers.LSTM(units, dropout=0.5, unroll=True)\n",
    "        ])\n",
    "\n",
    "\n",
    "        # fc, [b, 80, 100] => [b, 64] => [b, 1]\n",
    "        self.outlayer = layers.Dense(1)\n",
    "\n",
    "    def call(self, inputs, training : bool = True):\n",
    "        \"\"\"\n",
    "        net(x) net(x, training=True) :train mode\n",
    "        net(x, training=False): test\n",
    "        :param inputs: [b, 80]\n",
    "        :param training:\n",
    "        :return:\n",
    "        \"\"\"\n",
    "        # [b, 80]\n",
    "        x = inputs\n",
    "        # embedding: [b, 80] => [b, 80, 100]\n",
    "        x = self.embedding(x)\n",
    "        # rnn cell compute\n",
    "        # x: [b, 80, 100] => [b, 64]\n",
    "        x = self.rnn(x)\n",
    "\n",
    "        # out: [b, 64] => [b, 1]\n",
    "        x = self.outlayer(x)\n",
    "        # p(y is pos|x)\n",
    "        prob = tf.sigmoid(x)\n",
    "\n",
    "        return prob\n",
    "\n"
   ]
  },
  {
   "cell_type": "code",
   "execution_count": 30,
   "metadata": {},
   "outputs": [],
   "source": [
    "#GRU\n",
    "class MyRNN(keras.Model):\n",
    "\n",
    "    def __init__(self, units):\n",
    "        super(MyRNN, self).__init__()\n",
    "\n",
    "\n",
    "        # transform text to embedding representation\n",
    "        # [b, 80] => [b, 80, 100]\n",
    "        self.embedding = layers.Embedding(total_words, embedding_len,\n",
    "                                          input_length=max_review_len)\n",
    "\n",
    "        # [b, 80, 100] , h_dim: 64\n",
    "        self.rnn = keras.Sequential([\n",
    "            # layers.SimpleRNN(units, dropout=0.5, return_sequences=True, unroll=True),\n",
    "            # layers.SimpleRNN(units, dropout=0.5, unroll=True)\n",
    "\n",
    "            # unroll: Boolean (default False). If True, the network will be unrolled,\n",
    "            # else a symbolic loop will be used.\n",
    "            # Unrolling can speed-up a RNN, although it tends to be more memory-intensive.\n",
    "            # Unrolling is only suitable for short sequences.\n",
    "            layers.GRU(units, dropout=0.5, return_sequences=True, unroll=True),\n",
    "            layers.GRU(units, dropout=0.5, unroll=True)\n",
    "        ])\n",
    "\n",
    "\n",
    "        # fc, [b, 80, 100] => [b, 64] => [b, 1]\n",
    "        self.outlayer = layers.Dense(1)\n",
    "\n",
    "    def call(self, inputs, training : bool = True):\n",
    "        \"\"\"\n",
    "        net(x) net(x, training=True) :train mode\n",
    "        net(x, training=False): test\n",
    "        :param inputs: [b, 80]\n",
    "        :param training:\n",
    "        :return:\n",
    "        \"\"\"\n",
    "        # [b, 80]\n",
    "        x = inputs\n",
    "        # embedding: [b, 80] => [b, 80, 100]\n",
    "        x = self.embedding(x)\n",
    "        # rnn cell compute\n",
    "        # x: [b, 80, 100] => [b, 64]\n",
    "        x = self.rnn(x)\n",
    "\n",
    "        # out: [b, 64] => [b, 1]\n",
    "        x = self.outlayer(x)\n",
    "        # p(y is pos|x)\n",
    "        prob = tf.sigmoid(x)\n",
    "\n",
    "        return prob"
   ]
  },
  {
   "cell_type": "code",
   "execution_count": 31,
   "metadata": {},
   "outputs": [
    {
     "name": "stdout",
     "output_type": "stream",
     "text": [
      "Epoch 1/10\n",
      "194/195 [============================>.] - ETA: 0s - loss: 0.5110 - accuracy: 0.6546Epoch 1/10\n",
      "195/195 [==============================] - 8s 41ms/step - loss: 0.3562 - accuracy: 0.8405\n",
      "195/195 [==============================] - 51s 260ms/step - loss: 0.5104 - accuracy: 0.6554 - val_loss: 0.3562 - val_accuracy: 0.8405\n",
      "Epoch 2/10\n",
      "194/195 [============================>.] - ETA: 0s - loss: 0.3501 - accuracy: 0.8448Epoch 1/10\n",
      "195/195 [==============================] - 5s 24ms/step - loss: 0.3637 - accuracy: 0.8446\n",
      "195/195 [==============================] - 19s 95ms/step - loss: 0.3497 - accuracy: 0.8449 - val_loss: 0.3637 - val_accuracy: 0.8446\n",
      "Epoch 3/10\n",
      "194/195 [============================>.] - ETA: 0s - loss: 0.3064 - accuracy: 0.8679Epoch 1/10\n",
      "195/195 [==============================] - 5s 24ms/step - loss: 0.3564 - accuracy: 0.8447\n",
      "195/195 [==============================] - 19s 96ms/step - loss: 0.3064 - accuracy: 0.8679 - val_loss: 0.3564 - val_accuracy: 0.8447\n",
      "Epoch 4/10\n",
      "194/195 [============================>.] - ETA: 0s - loss: 0.2824 - accuracy: 0.8851Epoch 1/10\n",
      "195/195 [==============================] - 5s 24ms/step - loss: 0.3566 - accuracy: 0.8440\n",
      "195/195 [==============================] - 18s 92ms/step - loss: 0.2824 - accuracy: 0.8851 - val_loss: 0.3566 - val_accuracy: 0.8440\n",
      "Epoch 5/10\n",
      "194/195 [============================>.] - ETA: 0s - loss: 0.2616 - accuracy: 0.8956Epoch 1/10\n",
      "195/195 [==============================] - 5s 24ms/step - loss: 0.3510 - accuracy: 0.8465\n",
      "195/195 [==============================] - 18s 90ms/step - loss: 0.2618 - accuracy: 0.8956 - val_loss: 0.3510 - val_accuracy: 0.8465\n",
      "Epoch 6/10\n",
      "194/195 [============================>.] - ETA: 0s - loss: 0.2433 - accuracy: 0.9034Epoch 1/10\n",
      "195/195 [==============================] - 5s 23ms/step - loss: 0.3644 - accuracy: 0.8450\n",
      "195/195 [==============================] - 17s 89ms/step - loss: 0.2434 - accuracy: 0.9035 - val_loss: 0.3644 - val_accuracy: 0.8450\n",
      "Epoch 7/10\n",
      "194/195 [============================>.] - ETA: 0s - loss: 0.2286 - accuracy: 0.9102Epoch 1/10\n",
      "195/195 [==============================] - 5s 24ms/step - loss: 0.4242 - accuracy: 0.8401\n",
      "195/195 [==============================] - 18s 91ms/step - loss: 0.2283 - accuracy: 0.9102 - val_loss: 0.4242 - val_accuracy: 0.8401\n",
      "Epoch 8/10\n",
      "194/195 [============================>.] - ETA: 0s - loss: 0.2102 - accuracy: 0.9165Epoch 1/10\n",
      "195/195 [==============================] - 5s 26ms/step - loss: 0.3757 - accuracy: 0.8441\n",
      "195/195 [==============================] - 20s 100ms/step - loss: 0.2109 - accuracy: 0.9165 - val_loss: 0.3757 - val_accuracy: 0.8441\n",
      "Epoch 9/10\n",
      "194/195 [============================>.] - ETA: 0s - loss: 0.2005 - accuracy: 0.9224Epoch 1/10\n",
      "195/195 [==============================] - 5s 26ms/step - loss: 0.4022 - accuracy: 0.8417\n",
      "195/195 [==============================] - 19s 98ms/step - loss: 0.2005 - accuracy: 0.9225 - val_loss: 0.4022 - val_accuracy: 0.8417\n",
      "Epoch 10/10\n",
      "194/195 [============================>.] - ETA: 0s - loss: 0.1922 - accuracy: 0.9265Epoch 1/10\n",
      "195/195 [==============================] - 5s 25ms/step - loss: 0.4525 - accuracy: 0.8356\n",
      "195/195 [==============================] - 20s 100ms/step - loss: 0.1917 - accuracy: 0.9265 - val_loss: 0.4525 - val_accuracy: 0.8356\n",
      "195/195 [==============================] - 5s 24ms/step - loss: 0.4525 - accuracy: 0.8356\n"
     ]
    }
   ],
   "source": [
    "def main():\n",
    "    units = 64 # RNN状态向量长度f\n",
    "    epochs = 10 # 训练epochs\n",
    "\n",
    "    training = True\n",
    "    \n",
    "    model = MyRNN(units)\n",
    "\n",
    "    if training:\n",
    "        # 装配\n",
    "        model.compile(optimizer = optimizers.RMSprop(0.001),\n",
    "                      loss = losses.BinaryCrossentropy(),\n",
    "                      metrics=['accuracy'],\n",
    "                      experimental_run_tf_function = False)\n",
    "    else:\n",
    "        # 装配\n",
    "        model.compile(optimizer = optimizers.RMSprop(0.001),\n",
    "          loss = losses.BinaryCrossentropy(),\n",
    "          metrics=['accuracy'])\n",
    "\n",
    "   \n",
    "\n",
    "    # 训练和验证\n",
    "    model.fit(db_train, epochs=epochs, validation_data=db_test)\n",
    "    # 测试\n",
    "    model.evaluate(db_test)\n",
    "\n",
    "\n",
    "if __name__ == '__main__':\n",
    "    main()\n"
   ]
  },
  {
   "cell_type": "code",
   "execution_count": null,
   "metadata": {},
   "outputs": [],
   "source": []
  }
 ],
 "metadata": {
  "kernelspec": {
   "display_name": "Python 3",
   "language": "python",
   "name": "python3"
  },
  "language_info": {
   "codemirror_mode": {
    "name": "ipython",
    "version": 3
   },
   "file_extension": ".py",
   "mimetype": "text/x-python",
   "name": "python",
   "nbconvert_exporter": "python",
   "pygments_lexer": "ipython3",
   "version": "3.7.4"
  },
  "toc": {
   "base_numbering": 1,
   "nav_menu": {},
   "number_sections": true,
   "sideBar": true,
   "skip_h1_title": false,
   "title_cell": "Table of Contents",
   "title_sidebar": "Contents",
   "toc_cell": false,
   "toc_position": {},
   "toc_section_display": true,
   "toc_window_display": false
  }
 },
 "nbformat": 4,
 "nbformat_minor": 4
}
